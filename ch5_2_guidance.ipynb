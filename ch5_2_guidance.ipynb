{
 "cells": [
  {
   "cell_type": "code",
   "execution_count": 1,
   "id": "05a4f4ed-03bf-49d9-ab96-1f6f23aba53b",
   "metadata": {},
   "outputs": [
    {
     "data": {
      "application/vnd.jupyter.widget-view+json": {
       "model_id": "ccca6a7f668842469baa3612654f5a60",
       "version_major": 2,
       "version_minor": 0
      },
      "text/plain": [
       "VBox(children=(HTML(value='<center> <img\\nsrc=https://huggingface.co/front/assets/huggingface_logo-noborder.sv…"
      ]
     },
     "metadata": {},
     "output_type": "display_data"
    }
   ],
   "source": [
    "from huggingface_hub import notebook_login\n",
    "notebook_login()"
   ]
  },
  {
   "cell_type": "code",
   "execution_count": 2,
   "id": "9e654ed9-d871-4e9c-b1e6-2c9e64aa6075",
   "metadata": {},
   "outputs": [
    {
     "name": "stderr",
     "output_type": "stream",
     "text": [
      "c:\\Users\\Triton Neo 16\\diffusion-teset\\venv\\lib\\site-packages\\diffusers\\utils\\outputs.py:63: UserWarning: torch.utils._pytree._register_pytree_node is deprecated. Please use torch.utils._pytree.register_pytree_node instead.\n",
      "  torch.utils._pytree._register_pytree_node(\n"
     ]
    },
    {
     "data": {
      "text/plain": [
       "'cuda'"
      ]
     },
     "execution_count": 2,
     "metadata": {},
     "output_type": "execute_result"
    }
   ],
   "source": [
    "import numpy as np \n",
    "import torch\n",
    "import torch.nn.functional as F\n",
    "import torchvision\n",
    "from datasets import load_dataset\n",
    "from diffusers import DDPMPipeline, DDIMScheduler\n",
    "from matplotlib import pyplot as plt\n",
    "from PIL import Image\n",
    "from torchvision import transforms\n",
    "from tqdm.auto import tqdm\n",
    "device = \"cuda\" if torch.cuda.is_available() else \"cpu\"\n",
    "device"
   ]
  },
  {
   "cell_type": "code",
   "execution_count": 3,
   "id": "317801ab-3fee-430b-a195-f5186cfcfbc0",
   "metadata": {},
   "outputs": [
    {
     "ename": "TypeError",
     "evalue": "__init__() missing 2 required positional arguments: 'unet' and 'scheduler'",
     "output_type": "error",
     "traceback": [
      "\u001b[1;31m---------------------------------------------------------------------------\u001b[0m",
      "\u001b[1;31mTypeError\u001b[0m                                 Traceback (most recent call last)",
      "\u001b[1;32mc:\\Users\\Triton Neo 16\\diffusion-teset\\ch5_2_guidance.ipynb Cell 3\u001b[0m line \u001b[0;36m2\n\u001b[0;32m      <a href='vscode-notebook-cell:/c%3A/Users/Triton%20Neo%2016/diffusion-teset/ch5_2_guidance.ipynb#W2sZmlsZQ%3D%3D?line=0'>1</a>\u001b[0m pipeline_name \u001b[39m=\u001b[39m \u001b[39m\"\u001b[39m\u001b[39mjohnowhitaker/sd-class-wikiart-from-bedrooms\u001b[39m\u001b[39m\"\u001b[39m\n\u001b[1;32m----> <a href='vscode-notebook-cell:/c%3A/Users/Triton%20Neo%2016/diffusion-teset/ch5_2_guidance.ipynb#W2sZmlsZQ%3D%3D?line=1'>2</a>\u001b[0m image_pipe \u001b[39m=\u001b[39m DDPMPipeline()\n",
      "\u001b[1;31mTypeError\u001b[0m: __init__() missing 2 required positional arguments: 'unet' and 'scheduler'"
     ]
    }
   ],
   "source": [
    "pipeline_name = \"johnowhitaker/sd-class-wikiart-from-bedrooms\"\n",
    "image_pipe = DDPMPipeline.from_pretrained(pipeline_name)\n",
    "\n",
    "scheduler = DDIMScheduler.from_pretrained(pipeline_name)\n",
    "scheduler.set_timesteps(num_inference_steps=40)\n",
    "\n",
    "x = torch.randn(8, 3, 256, 256).to(device)\n",
    "for i, t in tqdm(enumerate(scheduler.timesteps), total=len(scheduler.timesteps)):\n",
    "    model_input = scheduler.scale_model_input()\n",
    "    x = image_pipe(x, timesteps=t)\n",
    "    if i % 10 == 0:\n",
    "        plt.imshow(x[0].cpu().detach().permute(1, 2, 0))\n",
    "        plt.show(\n"
   ]
  },
  {
   "cell_type": "code",
   "execution_count": 1,
   "id": "c66b68e7-e541-4b3a-99fa-39a661e073d4",
   "metadata": {},
   "outputs": [],
   "source": [
    "def color_loss(images, target_color=(.1, .9, .5)):\n",
    "    target = (\n",
    "        torch.tensor(target_color).to(images.device) * 2 - 1\n",
    "    )\n",
    "    target = target[\n",
    "        None, :, None, None\n",
    "    ]\n",
    "    error = torch.abs(\n",
    "        images - target\n",
    "    ).mean()\n",
    "    return error"
   ]
  },
  {
   "cell_type": "code",
   "execution_count": null,
   "id": "de7f6148-a336-4f0a-a91b-c47cc348201e",
   "metadata": {},
   "outputs": [],
   "source": []
  },
  {
   "cell_type": "code",
   "execution_count": null,
   "id": "69d117ef-4dc2-4677-b2f1-6072890e9f41",
   "metadata": {},
   "outputs": [],
   "source": []
  }
 ],
 "metadata": {
  "kernelspec": {
   "display_name": "Python 3 (ipykernel)",
   "language": "python",
   "name": "python3"
  },
  "language_info": {
   "codemirror_mode": {
    "name": "ipython",
    "version": 3
   },
   "file_extension": ".py",
   "mimetype": "text/x-python",
   "name": "python",
   "nbconvert_exporter": "python",
   "pygments_lexer": "ipython3",
   "version": "3.9.13"
  }
 },
 "nbformat": 4,
 "nbformat_minor": 5
}
